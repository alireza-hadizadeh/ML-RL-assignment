{
 "cells": [
  {
   "cell_type": "code",
   "execution_count": 3,
   "id": "3cfd8c6e",
   "metadata": {},
   "outputs": [],
   "source": [
    "import pandas as pd\n",
    "import numpy as np\n",
    "from sklearn.datasets import fetch_openml\n",
    "from sklearn.model_selection import train_test_split"
   ]
  },
  {
   "cell_type": "code",
   "execution_count": 4,
   "id": "629bce3f",
   "metadata": {},
   "outputs": [],
   "source": [
    "# بارگذاری داده از UCI\n",
    "df = fetch_openml(name='Banknote-authentication', version=1, as_frame=True)\n",
    "data = df['frame'][['V1', 'V2', 'Class']]  # فقط دو ویژگی و برچسب\n",
    "\n",
    "# جدا کردن ویژگی‌ها و برچسب\n",
    "X = data[['V1', 'V2']].values\n",
    "y = data['Class'].astype(int).values\n",
    "\n",
    "# تقسیم داده به آموزش و تست\n",
    "X_train, X_test, y_train, y_test = train_test_split(X, y, test_size=0.3, random_state=42)\n"
   ]
  },
  {
   "cell_type": "code",
   "execution_count": 5,
   "id": "c4d7d45f",
   "metadata": {},
   "outputs": [],
   "source": [
    "# تابع احتمال چگالی گوسی (برای ویژگی‌های پیوسته)\n",
    "def gaussian_pdf(x, mean, var):\n",
    "    eps = 1e-6  # جلوگیری از تقسیم بر صفر\n",
    "    coef = 1.0 / np.sqrt(2.0 * np.pi * var + eps)\n",
    "    exponent = np.exp(-((x - mean) ** 2) / (2 * var + eps))\n",
    "    return coef * exponent\n",
    "\n",
    "# آموزش مدل: محاسبه میانگین، واریانس، و احتمال پیشین\n",
    "def train_naive_bayes(X, y):\n",
    "    summaries = {}\n",
    "    classes = np.unique(y)\n",
    "    for c in classes:\n",
    "        X_c = X[y == c]\n",
    "        means = X_c.mean(axis=0)\n",
    "        variances = X_c.var(axis=0)\n",
    "        prior = X_c.shape[0] / X.shape[0]\n",
    "        summaries[c] = {'mean': means, 'var': variances, 'prior': prior}\n",
    "    return summaries\n",
    "\n",
    "# پیش‌بینی یک نمونه\n",
    "def predict_single(x, summaries):\n",
    "    posteriors = {}\n",
    "    for c, stats in summaries.items():\n",
    "        prior = np.log(stats['prior'])  # استفاده از لگاریتم برای پایداری عددی\n",
    "        likelihoods = np.sum(np.log(gaussian_pdf(x, stats['mean'], stats['var'])))\n",
    "        posteriors[c] = prior + likelihoods\n",
    "    return max(posteriors, key=posteriors.get)\n",
    "\n",
    "# پیش‌بینی کل مجموعه\n",
    "def predict(X, summaries):\n",
    "    return np.array([predict_single(x, summaries) for x in X])\n"
   ]
  },
  {
   "cell_type": "code",
   "execution_count": 6,
   "id": "0bb11342",
   "metadata": {},
   "outputs": [
    {
     "name": "stdout",
     "output_type": "stream",
     "text": [
      "Accuracy: 0.8592233009708737\n",
      "\n",
      "Classification Report:\n",
      "               precision    recall  f1-score   support\n",
      "\n",
      "           1       0.85      0.91      0.88       229\n",
      "           2       0.88      0.79      0.83       183\n",
      "\n",
      "    accuracy                           0.86       412\n",
      "   macro avg       0.86      0.85      0.86       412\n",
      "weighted avg       0.86      0.86      0.86       412\n",
      "\n"
     ]
    }
   ],
   "source": [
    "# آموزش مدل\n",
    "summaries = train_naive_bayes(X_train, y_train)\n",
    "\n",
    "# پیش‌بینی\n",
    "y_pred = predict(X_test, summaries)\n",
    "\n",
    "# ارزیابی\n",
    "from sklearn.metrics import accuracy_score, classification_report\n",
    "\n",
    "print(\"Accuracy:\", accuracy_score(y_test, y_pred))\n",
    "print(\"\\nClassification Report:\\n\", classification_report(y_test, y_pred))\n"
   ]
  }
 ],
 "metadata": {
  "kernelspec": {
   "display_name": "Python 3",
   "language": "python",
   "name": "python3"
  },
  "language_info": {
   "codemirror_mode": {
    "name": "ipython",
    "version": 3
   },
   "file_extension": ".py",
   "mimetype": "text/x-python",
   "name": "python",
   "nbconvert_exporter": "python",
   "pygments_lexer": "ipython3",
   "version": "3.13.2"
  }
 },
 "nbformat": 4,
 "nbformat_minor": 5
}
