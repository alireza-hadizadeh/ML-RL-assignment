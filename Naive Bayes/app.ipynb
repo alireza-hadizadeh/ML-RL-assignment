{
 "cells": [
  {
   "cell_type": "code",
   "execution_count": 1,
   "id": "42ed3a98",
   "metadata": {},
   "outputs": [],
   "source": [
    "# کتابخانه‌های لازم\n",
    "from sklearn.datasets import fetch_openml\n",
    "from sklearn.model_selection import train_test_split\n",
    "from sklearn.naive_bayes import GaussianNB\n",
    "from sklearn.metrics import classification_report, confusion_matrix, accuracy_score\n",
    "import pandas as pd"
   ]
  },
  {
   "cell_type": "code",
   "execution_count": 8,
   "id": "b5da1859",
   "metadata": {},
   "outputs": [
    {
     "name": "stdout",
     "output_type": "stream",
     "text": [
      "           V1        V2       V3       V4\n",
      "0     3.62160   8.66610  -2.8073 -0.44699\n",
      "1     4.54590   8.16740  -2.4586 -1.46210\n",
      "2     3.86600  -2.63830   1.9242  0.10645\n",
      "3     3.45660   9.52280  -4.0112 -3.59440\n",
      "4     0.32924  -4.45520   4.5718 -0.98880\n",
      "...       ...       ...      ...      ...\n",
      "1367  0.40614   1.34920  -1.4501 -0.55949\n",
      "1368 -1.38870  -4.87730   6.4774  0.34179\n",
      "1369 -3.75030 -13.45860  17.5932 -2.77710\n",
      "1370 -3.56370  -8.38270  12.3930 -1.28230\n",
      "1371 -2.54190  -0.65804   2.6842  1.19520\n",
      "\n",
      "[1372 rows x 4 columns]\n",
      "-----------------\n",
      "0       1\n",
      "1       1\n",
      "2       1\n",
      "3       1\n",
      "4       1\n",
      "       ..\n",
      "1367    2\n",
      "1368    2\n",
      "1369    2\n",
      "1370    2\n",
      "1371    2\n",
      "Name: Class, Length: 1372, dtype: int64\n"
     ]
    }
   ],
   "source": [
    "# مرحله 1: بارگذاری دیتاست\n",
    "df = fetch_openml(name='Banknote-authentication', version=1, as_frame=True)\n",
    "X = df.data\n",
    "y = df.target.astype('int')  # تبدیل به عدد صحیح\n",
    "\n",
    "print(X);\n",
    "print(\"-----------------\");\n",
    "print(y);"
   ]
  },
  {
   "cell_type": "code",
   "execution_count": null,
   "id": "9c4acd62",
   "metadata": {},
   "outputs": [
    {
     "name": "stdout",
     "output_type": "stream",
     "text": [
      "Confusion Matrix:\n",
      " [[207  22]\n",
      " [ 45 138]]\n",
      "\n",
      "Classification Report:\n",
      "               precision    recall  f1-score   support\n",
      "\n",
      "           1       0.82      0.90      0.86       229\n",
      "           2       0.86      0.75      0.80       183\n",
      "\n",
      "    accuracy                           0.84       412\n",
      "   macro avg       0.84      0.83      0.83       412\n",
      "weighted avg       0.84      0.84      0.84       412\n",
      "\n",
      "\n",
      "Accuracy: 0.837378640776699\n"
     ]
    }
   ],
   "source": [
    "\n",
    "# مرحله 2: تقسیم به آموزش و تست\n",
    "X_train, X_test, y_train, y_test = train_test_split(X, y, test_size=0.3, random_state=42)\n",
    "\n",
    "# مرحله 3: ایجاد مدل Naive Bayes (نوع گوسی برای داده‌های پیوسته)\n",
    "model = GaussianNB()\n",
    "model.fit(X_train, y_train)\n",
    "\n",
    "# مرحله 4: پیش‌بینی و ارزیابی مدل\n",
    "y_pred = model.predict(X_test)\n",
    "\n",
    "# گزارش ارزیابی\n",
    "print(\"Confusion Matrix:\\n\", confusion_matrix(y_test, y_pred))\n",
    "print(\"\\nClassification Report:\\n\", classification_report(y_test, y_pred))\n",
    "print(\"\\nAccuracy:\", accuracy_score(y_test, y_pred))\n"
   ]
  }
 ],
 "metadata": {
  "kernelspec": {
   "display_name": "Python 3",
   "language": "python",
   "name": "python3"
  },
  "language_info": {
   "codemirror_mode": {
    "name": "ipython",
    "version": 3
   },
   "file_extension": ".py",
   "mimetype": "text/x-python",
   "name": "python",
   "nbconvert_exporter": "python",
   "pygments_lexer": "ipython3",
   "version": "3.13.2"
  }
 },
 "nbformat": 4,
 "nbformat_minor": 5
}
