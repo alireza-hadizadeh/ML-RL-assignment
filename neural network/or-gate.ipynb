{
 "cells": [
  {
   "cell_type": "code",
   "execution_count": 1,
   "id": "61da6c35",
   "metadata": {},
   "outputs": [
    {
     "name": "stdout",
     "output_type": "stream",
     "text": [
      "\n",
      "Epoch 1\n",
      "x1=0 x2=0 t=0 y=1 e=-1 -> w1=-0.20, w2=0.40\n",
      "x1=0 x2=1 t=1 y=1 e=0 -> w1=-0.20, w2=0.40\n",
      "x1=1 x2=0 t=1 y=0 e=1 -> w1=0.00, w2=0.40\n",
      "x1=1 x2=1 t=1 y=1 e=0 -> w1=0.00, w2=0.40\n",
      "\n",
      "Epoch 2\n",
      "x1=0 x2=0 t=0 y=1 e=-1 -> w1=0.00, w2=0.40\n",
      "x1=0 x2=1 t=1 y=1 e=0 -> w1=0.00, w2=0.40\n",
      "x1=1 x2=0 t=1 y=1 e=0 -> w1=0.00, w2=0.40\n",
      "x1=1 x2=1 t=1 y=1 e=0 -> w1=0.00, w2=0.40\n",
      "\n",
      "Epoch 3\n",
      "x1=0 x2=0 t=0 y=1 e=-1 -> w1=0.00, w2=0.40\n",
      "x1=0 x2=1 t=1 y=1 e=0 -> w1=0.00, w2=0.40\n",
      "x1=1 x2=0 t=1 y=1 e=0 -> w1=0.00, w2=0.40\n",
      "x1=1 x2=1 t=1 y=1 e=0 -> w1=0.00, w2=0.40\n"
     ]
    }
   ],
   "source": [
    "# Step activation function (threshold at 0)\n",
    "def step(x):\n",
    "    return 1 if x >= 0 else 0\n",
    "\n",
    "# Inputs and targets for OR\n",
    "X = [\n",
    "    [0, 0],\n",
    "    [0, 1],\n",
    "    [1, 0],\n",
    "    [1, 1]\n",
    "]\n",
    "\n",
    "T = [0, 1, 1, 1]  # OR Gate\n",
    "\n",
    "# Initialize weights and bias\n",
    "w1 = -0.2\n",
    "w2 = 0.4\n",
    "theta = 0  # Bias threshold\n",
    "learning_rate = 0.2\n",
    "\n",
    "# Train for 3 epochs\n",
    "for epoch in range(3):\n",
    "    print(f\"\\nEpoch {epoch + 1}\")\n",
    "    for i in range(4):\n",
    "        x1, x2 = X[i]\n",
    "        t = T[i]\n",
    "\n",
    "        # Weighted sum (net input)\n",
    "        net = x1 * w1 + x2 * w2 - theta\n",
    "        y = step(net)  # Predicted output\n",
    "\n",
    "        # Error\n",
    "        e = t - y\n",
    "\n",
    "        # Update weights if there's error\n",
    "        w1 = w1 + learning_rate * e * x1\n",
    "        w2 = w2 + learning_rate * e * x2\n",
    "\n",
    "        print(f\"x1={x1} x2={x2} t={t} y={y} e={e} -> w1={w1:.2f}, w2={w2:.2f}\")\n"
   ]
  }
 ],
 "metadata": {
  "kernelspec": {
   "display_name": "Python 3",
   "language": "python",
   "name": "python3"
  },
  "language_info": {
   "codemirror_mode": {
    "name": "ipython",
    "version": 3
   },
   "file_extension": ".py",
   "mimetype": "text/x-python",
   "name": "python",
   "nbconvert_exporter": "python",
   "pygments_lexer": "ipython3",
   "version": "3.13.2"
  }
 },
 "nbformat": 4,
 "nbformat_minor": 5
}
